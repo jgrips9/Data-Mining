{
 "cells": [
  {
   "cell_type": "code",
   "execution_count": 1,
   "id": "7cb2b978-0c8f-4ec4-873d-75c00b00e8bf",
   "metadata": {},
   "outputs": [],
   "source": [
    "import sys\n",
    "#Below you must set path to where webdriver is installed. This path will be different for you.\n",
    "sys.path.insert(0,'Z:\\\\jrg363\\\\Selenium Python\\\\chromedriver\\\\chromedriver-win64')\n",
    "\n",
    "#Make sure to install all packages.\n",
    "from selenium import webdriver\n",
    "from selenium.webdriver.chrome.options import Options\n",
    "from selenium.webdriver.support.ui import WebDriverWait\n",
    "from selenium.webdriver.support import expected_conditions as EC\n",
    "from selenium.webdriver.common.by import By\n",
    "from selenium.webdriver.common.keys import Keys\n",
    "\n",
    "\n",
    "import re\n",
    "import pandas as pd\n",
    "import time"
   ]
  },
  {
   "cell_type": "code",
   "execution_count": 2,
   "id": "961e7cf6-2583-4c6e-a5db-414591dadbb7",
   "metadata": {},
   "outputs": [],
   "source": [
    "#Install additional features\n",
    "from selenium.webdriver.support.ui import WebDriverWait\n",
    "from selenium.webdriver.support import expected_conditions as EC\n",
    "from selenium.webdriver.common.by import By\n",
    "from selenium.common.exceptions import NoSuchElementException\n",
    "from selenium.webdriver.support.ui import WebDriverWait\n",
    "from selenium.webdriver.support import expected_conditions as EC"
   ]
  },
  {
   "cell_type": "code",
   "execution_count": 3,
   "id": "443404b7-f340-4287-96e0-a264163cb13f",
   "metadata": {},
   "outputs": [],
   "source": [
    "#launch chrome\n",
    "driver = webdriver.Chrome()"
   ]
  },
  {
   "cell_type": "code",
   "execution_count": null,
   "id": "6d534c6d-673d-40b6-8505-2a0b17c6b82b",
   "metadata": {},
   "outputs": [],
   "source": [
    "from linkedin_scraper import Job, actions\n",
    "from selenium import webdriver\n",
    "\n",
    "driver = webdriver.Chrome()\n",
    "email = \"linkedin username\"\n",
    "password = \"linkedin password\"\n",
    "actions.login(driver, email, password) # if email and password isnt given, it'll prompt in terminal"
   ]
  },
  {
   "cell_type": "code",
   "execution_count": null,
   "id": "23c1099d-965e-41b4-895c-97cb7c657a92",
   "metadata": {},
   "outputs": [],
   "source": [
    "#Format excel sheet company names. And use excel add in to get linkedin url\n",
    "#https://www.automateexcel.com/formulas/extract-text-before-after-character/\n",
    "#https://nodatanobusiness.com/solutions/linkedin-company-url-finder/"
   ]
  },
  {
   "cell_type": "code",
   "execution_count": null,
   "id": "978970ba-6548-4b4e-a995-af99562134e8",
   "metadata": {},
   "outputs": [],
   "source": [
    "#Import names\n",
    "import os\n",
    "import pandas as pd\n",
    "linkedin_comp_urls = pd.read_excel(\"Linkedin Urls.xlsx\")"
   ]
  },
  {
   "cell_type": "code",
   "execution_count": null,
   "id": "898ffb04-85fa-435c-9d20-115d9f4bc507",
   "metadata": {},
   "outputs": [],
   "source": [
    "display(linkedin_comp_urls)"
   ]
  },
  {
   "cell_type": "code",
   "execution_count": null,
   "id": "ff13a752-a520-4336-a31d-cab1aea8b212",
   "metadata": {},
   "outputs": [],
   "source": [
    "#Loop through the linkedin urls. \n",
    "urls = linkedin_comp_urls['linkedin About page']"
   ]
  },
  {
   "cell_type": "code",
   "execution_count": null,
   "id": "9d08eb79-6129-4765-9bff-5cf2292558f0",
   "metadata": {},
   "outputs": [],
   "source": [
    "websites = []\n",
    "phones = []\n",
    "industry_names = []\n",
    "company_size = []\n",
    "headquarters = []\n",
    "size = 0\n",
    "for url in urls:\n",
    "    driver.get(url)\n",
    "    headings = driver.find_elements(By.XPATH, \"//dl[@class='overflow-hidden']//dt\")\n",
    "    stats = driver.find_elements(By.XPATH, \"//dl[@class='overflow-hidden']//dd\")\n",
    "    count = 0\n",
    "    size = size + 1\n",
    "    for i in headings:\n",
    "        if i.text == \"Website\":\n",
    "            websites.append(stats[count].text)\n",
    "        if i.text == \"Phone\":\n",
    "            phones.append(stats[count].text)\n",
    "        if i.text == \"Industry\":\n",
    "            industry_names.append(stats[count].text)\n",
    "        if i.text == \"Company size\":\n",
    "            company_size.append(stats[count].text)\n",
    "        if i.text == \"Headquarters\":\n",
    "            headquarters.append(stats[count].text)\n",
    "        count = count + 1\n",
    "    if len(websites) != size:\n",
    "        websites.append(\"missing\")\n",
    "    if len(phones) != size:\n",
    "        phones.append(\"missing\")\n",
    "    if len(industry_names) != size:\n",
    "        industry_names.append(\"missing\")\n",
    "    if len(company_size) != size:\n",
    "        company_size.append(\"missing\")\n",
    "    if len(headquarters) != size:\n",
    "        headquarters.append(\"missing\")"
   ]
  },
  {
   "cell_type": "code",
   "execution_count": null,
   "id": "1d1874d0-1ba1-431d-94a3-2e383ff8b2df",
   "metadata": {},
   "outputs": [],
   "source": [
    "#Create dataset\n",
    "linkedin_df = pd.DataFrame({'website': websites, 'Phone Number': phones, 'Industry Names': industry_names, 'company Sizes': company_size, 'headquarters': headquarters})\n",
    "display(linkedin_df)"
   ]
  },
  {
   "cell_type": "code",
   "execution_count": null,
   "id": "45c584ec-08b5-4630-9c55-8230986f5727",
   "metadata": {},
   "outputs": [],
   "source": [
    "#Merge datasets by row\n",
    "merged_linked = pd.concat([linkedin_comp_urls,linkedin_df],axis=1)"
   ]
  },
  {
   "cell_type": "code",
   "execution_count": null,
   "id": "556bc9e2-7b73-4ed2-ae51-3bda14b7b987",
   "metadata": {},
   "outputs": [],
   "source": [
    "display(merged_linked)"
   ]
  },
  {
   "cell_type": "code",
   "execution_count": null,
   "id": "3b8ddead-bfff-4093-b418-45bd2f743d1d",
   "metadata": {},
   "outputs": [],
   "source": [
    "merged_linked.to_excel(\"linkedin Data.xlsx\")"
   ]
  }
 ],
 "metadata": {
  "kernelspec": {
   "display_name": "Python 3 (ipykernel)",
   "language": "python",
   "name": "python3"
  },
  "language_info": {
   "codemirror_mode": {
    "name": "ipython",
    "version": 3
   },
   "file_extension": ".py",
   "mimetype": "text/x-python",
   "name": "python",
   "nbconvert_exporter": "python",
   "pygments_lexer": "ipython3",
   "version": "3.12.7"
  }
 },
 "nbformat": 4,
 "nbformat_minor": 5
}
