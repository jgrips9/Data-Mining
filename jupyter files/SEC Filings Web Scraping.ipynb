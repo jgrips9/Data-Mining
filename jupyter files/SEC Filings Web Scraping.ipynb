{
 "cells": [
  {
   "cell_type": "code",
   "execution_count": 157,
   "id": "ee9e4022-a1bf-4827-9d24-c367148d65f9",
   "metadata": {},
   "outputs": [],
   "source": [
    "#Needs to use selenium. \n",
    "import sys\n",
    "#Below you must set path to where webdriver is installed. This path will be different for you.\n",
    "sys.path.insert(0,'Z:\\\\jrg363\\\\Selenium Python\\\\chromedriver\\\\chromedriver-win64')\n",
    "\n",
    "#Make sure to install all packages.\n",
    "from selenium import webdriver\n",
    "from selenium.webdriver.chrome.options import Options\n",
    "from selenium.webdriver.support.ui import WebDriverWait\n",
    "from selenium.webdriver.support import expected_conditions as EC\n",
    "from selenium.webdriver.common.by import By\n",
    "from selenium.webdriver.common.keys import Keys\n",
    "\n",
    "\n",
    "import re\n",
    "import pandas as pd\n",
    "import time"
   ]
  },
  {
   "cell_type": "code",
   "execution_count": 158,
   "id": "922ac72a-b08f-4db2-a6a1-1a87e9b4956f",
   "metadata": {},
   "outputs": [],
   "source": [
    "from selenium.webdriver.support.ui import WebDriverWait\n",
    "from selenium.webdriver.support import expected_conditions as EC\n",
    "from selenium.webdriver.common.by import By\n",
    "from selenium.common.exceptions import NoSuchElementException\n",
    "from selenium.webdriver.support.ui import WebDriverWait\n",
    "from selenium.webdriver.support import expected_conditions as EC"
   ]
  },
  {
   "cell_type": "code",
   "execution_count": 159,
   "id": "cd5e60c3-8781-4cec-98c6-4ab4660f1c89",
   "metadata": {},
   "outputs": [],
   "source": [
    "#Start web driver\n",
    "chrome_options = webdriver.ChromeOptions()\n",
    "driver = webdriver.Chrome(options=chrome_options)"
   ]
  },
  {
   "cell_type": "code",
   "execution_count": 160,
   "id": "ca2c457a-6d77-4a0a-916f-bece93c831a2",
   "metadata": {},
   "outputs": [],
   "source": [
    "#Import text files\n",
    "import os\n",
    "os.chdir(\"Z:\\\\jrg363\\\\workshops SP25\\\\Guest Lecture Apr25\\\\API filing_details\")\n",
    "data = pd.read_excel(\"api_details.xlsx\")\n"
   ]
  },
  {
   "cell_type": "code",
   "execution_count": 161,
   "id": "537b9023-5972-40a2-8875-1e8d47e649e1",
   "metadata": {},
   "outputs": [],
   "source": [
    "ciks_sample = data['cik_Number'][0:2]"
   ]
  },
  {
   "cell_type": "code",
   "execution_count": 162,
   "id": "8d03cf08-2337-49d7-954f-99561a9a1d58",
   "metadata": {},
   "outputs": [
    {
     "data": {
      "text/plain": [
       "0     700764\n",
       "1    1819438\n",
       "Name: cik_Number, dtype: int64"
      ]
     },
     "execution_count": 162,
     "metadata": {},
     "output_type": "execute_result"
    }
   ],
   "source": [
    "ciks_sample"
   ]
  },
  {
   "cell_type": "code",
   "execution_count": 163,
   "id": "cef3a070-1e6f-4f65-b278-32d7e954c50f",
   "metadata": {},
   "outputs": [],
   "source": [
    "#Go to chatgpt\n",
    "#https://chatgpt.com/\n",
    "driver.get(\"https://deepai.org/chat\")\n",
    "time.sleep(5)\n"
   ]
  },
  {
   "cell_type": "code",
   "execution_count": 164,
   "id": "336d02d5-8445-4160-8fb8-8db4eca5443e",
   "metadata": {},
   "outputs": [],
   "source": [
    "def get_text_after_substrings(text, substrings):\n",
    "    for substring in substrings:\n",
    "        index = text.find(substring)\n",
    "        if index != -1:\n",
    "            text = text[index-len(substring) + len(substring):]\n",
    "    return text"
   ]
  },
  {
   "cell_type": "code",
   "execution_count": 165,
   "id": "5c3417fc-a4ee-4f5b-bcf3-a04f1217d6e5",
   "metadata": {},
   "outputs": [],
   "source": [
    "#Counter for going through text files\n",
    "count = 0\n",
    "#Empty list that will store responses from copilot. \n",
    "AIResp = []\n",
    "\n",
    "#Loop through cik numbers that created text file for. \n",
    "for cik in ciks_sample:\n",
    "  #File name for importing text file\n",
    "    filenamei = str(cik) + \".txt\"\n",
    "    #New file name that contains copilot summary. \n",
    "    filenamee = str(cik) + \"researchAndDevelopmentSummary\" + \".txt\"\n",
    "    #Import txt file.\n",
    "    f = open(filenamei, 'r')\n",
    "    #Read text\n",
    "    content = f.read()\n",
    "    #Close text file\n",
    "    f.close()\n",
    "    #Search for these strings for start of section\n",
    "    substrings = [\"Research and Development\", \"Research &#38; Development\"]\n",
    "    result = get_text_after_substrings(content, substrings) \n",
    "    #Replace &#160; with nothing\n",
    "    result = result.replace(\"&#160;\", \"\")\n",
    "    \n",
    "    prompt = \"summarize research and development secction of following text: \"\n",
    "    prompt_enter = prompt + result\n",
    "    prompt_enter = prompt_enter[0:2000]\n",
    "    prompt_enter = prompt_enter.replace(\"\\n\", \"\")\n",
    "    #Enter into prompt\n",
    "    keywords = driver.find_element(By.XPATH, \"//textarea[@id='persistentChatbox']\")\n",
    "    keywords.send_keys(prompt_enter)\n",
    "\n",
    "    submit = driver.find_element(By.XPATH, \"//button[@id='chatSubmitButton']\")\n",
    "    submit.click()\n",
    "    time.sleep(20)\n",
    "    response = driver.find_elements(By.XPATH, \"//div[@class='outputBox']\")\n",
    "    AIResp.append(response[count].text)\n",
    "    count = count + 1"
   ]
  },
  {
   "cell_type": "code",
   "execution_count": 166,
   "id": "bc40780b-3532-4107-9d35-0e30763e9e58",
   "metadata": {},
   "outputs": [],
   "source": [
    "#Then combine into excel spreadsheet and export. \n",
    "cik_df = pd.DataFrame({'ciks': ciks_sample, 'API Response': AIResp})"
   ]
  },
  {
   "cell_type": "code",
   "execution_count": 167,
   "id": "1548a6ef-1156-41a6-b884-6ff10676246d",
   "metadata": {},
   "outputs": [
    {
     "data": {
      "text/html": [
       "<div>\n",
       "<style scoped>\n",
       "    .dataframe tbody tr th:only-of-type {\n",
       "        vertical-align: middle;\n",
       "    }\n",
       "\n",
       "    .dataframe tbody tr th {\n",
       "        vertical-align: top;\n",
       "    }\n",
       "\n",
       "    .dataframe thead th {\n",
       "        text-align: right;\n",
       "    }\n",
       "</style>\n",
       "<table border=\"1\" class=\"dataframe\">\n",
       "  <thead>\n",
       "    <tr style=\"text-align: right;\">\n",
       "      <th></th>\n",
       "      <th>ciks</th>\n",
       "      <th>API Response</th>\n",
       "    </tr>\n",
       "  </thead>\n",
       "  <tbody>\n",
       "    <tr>\n",
       "      <th>0</th>\n",
       "      <td>700764</td>\n",
       "      <td>The research and development section highlight...</td>\n",
       "    </tr>\n",
       "    <tr>\n",
       "      <th>1</th>\n",
       "      <td>1819438</td>\n",
       "      <td>The research and development section emphasize...</td>\n",
       "    </tr>\n",
       "  </tbody>\n",
       "</table>\n",
       "</div>"
      ],
      "text/plain": [
       "      ciks                                       API Response\n",
       "0   700764  The research and development section highlight...\n",
       "1  1819438  The research and development section emphasize..."
      ]
     },
     "metadata": {},
     "output_type": "display_data"
    }
   ],
   "source": [
    "display(cik_df)"
   ]
  },
  {
   "cell_type": "code",
   "execution_count": 168,
   "id": "b24e77f8-fab6-4e35-b0dc-586bcb5a6be2",
   "metadata": {},
   "outputs": [],
   "source": [
    "cik_df.to_excel(\"Summary of research and development.xlsx\")"
   ]
  },
  {
   "cell_type": "code",
   "execution_count": null,
   "id": "f6b44a73-23fc-48ac-a4a2-0e41d025a84a",
   "metadata": {},
   "outputs": [],
   "source": []
  }
 ],
 "metadata": {
  "kernelspec": {
   "display_name": "Python 3 (ipykernel)",
   "language": "python",
   "name": "python3"
  },
  "language_info": {
   "codemirror_mode": {
    "name": "ipython",
    "version": 3
   },
   "file_extension": ".py",
   "mimetype": "text/x-python",
   "name": "python",
   "nbconvert_exporter": "python",
   "pygments_lexer": "ipython3",
   "version": "3.12.7"
  }
 },
 "nbformat": 4,
 "nbformat_minor": 5
}
